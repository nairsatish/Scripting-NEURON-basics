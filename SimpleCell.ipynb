{
  "nbformat": 4,
  "nbformat_minor": 0,
  "metadata": {
    "colab": {
      "provenance": []
    },
    "kernelspec": {
      "name": "python3",
      "display_name": "Python 3"
    },
    "language_info": {
      "name": "python"
    }
  },
  "cells": [
    {
      "cell_type": "code",
      "execution_count": 18,
      "metadata": {
        "colab": {
          "base_uri": "https://localhost:8080/"
        },
        "id": "YjxHf4f1fhIH",
        "outputId": "70a72c77-a441-4eba-936a-d45058f06464"
      },
      "outputs": [
        {
          "output_type": "stream",
          "name": "stdout",
          "text": [
            "hello\n"
          ]
        }
      ],
      "source": [
        "print(\"hello\")"
      ]
    },
    {
      "cell_type": "code",
      "source": [
        "!pip install neuron\n",
        "import neuron\n",
        "print(neuron.__version__)\n",
        "from neuron import h\n",
        "from neuron.units import ms, mV"
      ],
      "metadata": {
        "colab": {
          "base_uri": "https://localhost:8080/"
        },
        "id": "sQ3iOr1EfquD",
        "outputId": "39f9bcd7-4fa5-40fa-ed2a-4b2650b62543"
      },
      "execution_count": 19,
      "outputs": [
        {
          "output_type": "stream",
          "name": "stdout",
          "text": [
            "Requirement already satisfied: neuron in /usr/local/lib/python3.10/dist-packages (8.2.2)\n",
            "Requirement already satisfied: numpy>=1.9.3 in /usr/local/lib/python3.10/dist-packages (from neuron) (1.22.4)\n",
            "8.2.2\n"
          ]
        }
      ]
    },
    {
      "cell_type": "code",
      "source": [
        "soma = h.Section(name='soma')\n",
        "h.topology()"
      ],
      "metadata": {
        "colab": {
          "base_uri": "https://localhost:8080/"
        },
        "id": "wVCiUmMSgsyf",
        "outputId": "7040f99e-27f8-42db-9e4f-b6726ffab07c"
      },
      "execution_count": 20,
      "outputs": [
        {
          "output_type": "stream",
          "name": "stdout",
          "text": [
            "\n",
            "|-|       soma(0-1)\n",
            "|-|       soma(0-1)\n",
            "\n"
          ]
        },
        {
          "output_type": "execute_result",
          "data": {
            "text/plain": [
              "1.0"
            ]
          },
          "metadata": {},
          "execution_count": 20
        }
      ]
    },
    {
      "cell_type": "code",
      "source": [
        "soma.L=20\n",
        "soma.diam=20\n",
        "soma.insert('hh')\n",
        "iclamp = h.IClamp(soma(0.5))\n",
        "print([item for item in dir(iclamp) if not item.startswith('_')])\n",
        "iclamp.delay = 2\n",
        "iclamp.dur = 0.1\n",
        "iclamp.amp = 0.9"
      ],
      "metadata": {
        "colab": {
          "base_uri": "https://localhost:8080/"
        },
        "id": "x3DdukhuiJib",
        "outputId": "1734af84-130d-4a6e-d4e6-2ee1515927ec"
      },
      "execution_count": 21,
      "outputs": [
        {
          "output_type": "stream",
          "name": "stdout",
          "text": [
            "['amp', 'baseattr', 'delay', 'dur', 'get_loc', 'get_segment', 'has_loc', 'hname', 'hocobjptr', 'i', 'loc', 'same']\n"
          ]
        }
      ]
    },
    {
      "cell_type": "markdown",
      "source": [
        "Set up recording variables"
      ],
      "metadata": {
        "id": "V9v44QZ9kJHK"
      }
    },
    {
      "cell_type": "code",
      "source": [
        "v = h.Vector().record(soma(0.5)._ref_v)   # Membrane potential vector\n",
        "t = h.Vector().record(h._ref_t)           # Time stamp vector"
      ],
      "metadata": {
        "id": "LwJJeHLkkO8e"
      },
      "execution_count": 25,
      "outputs": []
    },
    {
      "cell_type": "markdown",
      "source": [
        "Run the simulation"
      ],
      "metadata": {
        "id": "uYOJbx0DlKdg"
      }
    },
    {
      "cell_type": "code",
      "source": [
        "h.load_file('stdrun.hoc')\n",
        "h.finitialize(-65 *mV)\n",
        "h.continuerun (40 *ms)"
      ],
      "metadata": {
        "colab": {
          "base_uri": "https://localhost:8080/"
        },
        "id": "d0HhQLz3lPiS",
        "outputId": "ad679581-269b-4cfa-cf24-58e66e5db6d8"
      },
      "execution_count": 27,
      "outputs": [
        {
          "output_type": "execute_result",
          "data": {
            "text/plain": [
              "0.0"
            ]
          },
          "metadata": {},
          "execution_count": 27
        }
      ]
    },
    {
      "cell_type": "markdown",
      "source": [
        "Plot results using matplotlib"
      ],
      "metadata": {
        "id": "XkUFvs6-lule"
      }
    },
    {
      "cell_type": "code",
      "source": [
        "%matplotlib inline\n",
        "import matplotlib.pyplot as plt\n",
        "plt.figure()\n",
        "plt.plot(t,v)\n",
        "plt.xlabel('t(ms)')\n",
        "plt.ylabel('v(mV)')\n",
        "plt.show()\n",
        "\n"
      ],
      "metadata": {
        "colab": {
          "base_uri": "https://localhost:8080/",
          "height": 449
        },
        "id": "h6E18O7xlxxc",
        "outputId": "daedaf6b-ad74-4f46-dcb6-0cfa949fe6fc"
      },
      "execution_count": 28,
      "outputs": [
        {
          "output_type": "display_data",
          "data": {
            "text/plain": [
              "<Figure size 640x480 with 1 Axes>"
            ],
            "image/png": "[encoded data removed]"
          },
          "metadata": {}
        }
      ]
    }
  ]
}